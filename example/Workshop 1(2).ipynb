{
 "cells": [
  {
   "cell_type": "markdown",
   "metadata": {},
   "source": [
    "## Python & Jupyter"
   ]
  },
  {
   "cell_type": "markdown",
   "metadata": {},
   "source": [
    "### First steps"
   ]
  },
  {
   "cell_type": "markdown",
   "metadata": {},
   "source": [
    "This is a first notebook to get you used to the idea of doing some programming in python, and to familiarise you with doing that in a Jupyter notebook. Jupyter is the name of the software that allows us to present you text plus runnable python commands all in a web browser like this. \n",
    "\n",
    "Let's start off by running some python code (I'll just call what we type into python 'code' but others prefer the term script or program - they all really refer to more or less the same thing). \n",
    "\n",
    "Here is an example of something very straightforward - outputting the result of the sum 21+456. The following cell is live code so that you can click on it, run it, edit it, re-run it, and so on.\n",
    "\n",
    "Click the >| icon above and it will run.  "
   ]
  },
  {
   "cell_type": "code",
   "execution_count": null,
   "metadata": {
    "collapsed": true,
    "scrolled": true
   },
   "outputs": [],
   "source": [
    "21+456"
   ]
  },
  {
   "cell_type": "markdown",
   "metadata": {},
   "source": [
    "Hopefully you can see an output with the answer - if so good! \n",
    "\n",
    "You can edit the code cells - try editing the above to sum 21+457, and rerun it by clicking the icon again (Shift+Enter is the keyboard shortcut to run the cell without having to go up and click on the icon).\n",
    "\n",
    "Notice each time you run the cell the number next to it changes - don't worry about that it just marks the number of inputs made to python so far in a session.\n",
    "\n",
    "If we were doing such a sum a better way to print the output from it would be to use the print function to make the output to the screen nicer, that would work like so: "
   ]
  },
  {
   "cell_type": "code",
   "execution_count": null,
   "metadata": {
    "collapsed": true
   },
   "outputs": [],
   "source": [
    "print(21+457)"
   ]
  },
  {
   "cell_type": "markdown",
   "metadata": {},
   "source": [
    "Note now that the output is printed to the screen nicely instead of being an Out[] reponse from the python console - much prettier!\n",
    "\n",
    "\n",
    "While we are here - let's do the typical first program that you are usually directed to write in a new programming language - a \"Hello World!\" program.\n",
    "\n",
    "This is to get the computer to print out \n",
    "> Hello World!\n",
    "\n",
    "to the screen. It is a task which has become a cliche to write as a first programme (see [here](https://helloworldcollection.github.io) for instance for lots of different versions). \n",
    "\n",
    "In python it would look as follows:\n"
   ]
  },
  {
   "cell_type": "code",
   "execution_count": null,
   "metadata": {
    "collapsed": true
   },
   "outputs": [],
   "source": [
    "print(\"Hello World!\")"
   ]
  },
  {
   "cell_type": "markdown",
   "metadata": {},
   "source": [
    "The \"\" marks around the text to be printed out mark the text as being a *string* - more on what that means later."
   ]
  },
  {
   "cell_type": "markdown",
   "metadata": {},
   "source": [
    "<hr>"
   ]
  },
  {
   "cell_type": "markdown",
   "metadata": {},
   "source": [
    "### Using python as a calculator"
   ]
  },
  {
   "cell_type": "markdown",
   "metadata": {},
   "source": [
    "Being mathematicians one of the first things we would like to use a computer for is to do computations for us. A first step in that direction is just to use the computer as a big calculator. \n",
    "\n",
    "This is something we can do in python. It understands basic operations. See if you can decide what the following lines each do:"
   ]
  },
  {
   "cell_type": "code",
   "execution_count": null,
   "metadata": {
    "collapsed": true
   },
   "outputs": [],
   "source": [
    "print(2+3)\n",
    "print(2*3)\n",
    "print(2/3)\n",
    "print(2**3)"
   ]
  },
  {
   "cell_type": "markdown",
   "metadata": {},
   "source": [
    "See the lines at the bottom for what each of these operations does in case you want to check your answer.\n",
    "\n",
    "So python can do simple calculations like this straight away, as it understands the basic mathematical operations. Of course though we would like to do more. Python extends its basic functionality by having lots of additional modules which provide more commands (functions/constants/etc..). In the case of mathematical calculations there are two modules that are very relevant. The first is called *math*. We can use the commands in a module by importing the module with an *import* command as follows."
   ]
  },
  {
   "cell_type": "code",
   "execution_count": null,
   "metadata": {
    "collapsed": true,
    "scrolled": true
   },
   "outputs": [],
   "source": [
    "import math\n",
    "print(math.sin(math.pi/4))"
   ]
  },
  {
   "cell_type": "markdown",
   "metadata": {},
   "source": [
    "This prints out the value of $\\sin(\\pi/4)$. Note the use of radians rather than degrees. Note too that you can access the functions contained in a module using a . between the name of the module and the functions/constants/etc it contains. \n",
    "\n",
    "The second module is a better one to use in general and is called *numpy* (stands for numerical python). We will be making a lot of use of this module as it is very useful for doing mathematical work in python, and includes many extra features over those available in the *math* module. Here is an example of the same thing using the *numpy* module."
   ]
  },
  {
   "cell_type": "code",
   "execution_count": null,
   "metadata": {
    "collapsed": true
   },
   "outputs": [],
   "source": [
    "import numpy \n",
    "print(numpy.sin(numpy.pi/4))"
   ]
  },
  {
   "cell_type": "markdown",
   "metadata": {},
   "source": [
    "The next lines give you a quick and easy way to import the features of a module all at once in order to save some writing (we will talk later on about what these different statements do and why"
   ]
  },
  {
   "cell_type": "code",
   "execution_count": null,
   "metadata": {
    "collapsed": true
   },
   "outputs": [],
   "source": [
    "from numpy import *\n",
    "print(sin(pi/4.0))"
   ]
  },
  {
   "cell_type": "markdown",
   "metadata": {},
   "source": [
    "Note in this last case the . is not needed to access the contents of the module.\n",
    "\n",
    "To give you a sense of what is available in the two modules the list for each of them is available on the following links. Don't worry too much about understanding all of the details (we will be looking a lot more at the *numpy* package later), but you can see the sorts of mathematical functions that you can call on.\n",
    "\n",
    "https://docs.scipy.org/doc/numpy/reference/routines.math.html\n",
    "\n",
    "https://docs.python.org/2/library/math.html\n",
    "\n",
    "Here is a blank python cell for you to mess around in - try using some functions and see what you get. \n",
    "As a starter - try coding up the quadratic formula to find the two roots of $x^2+5x+2=0$ in turn."
   ]
  },
  {
   "cell_type": "code",
   "execution_count": null,
   "metadata": {
    "collapsed": true
   },
   "outputs": [],
   "source": []
  },
  {
   "cell_type": "markdown",
   "metadata": {
    "collapsed": true
   },
   "source": [
    "### Some more python basics"
   ]
  },
  {
   "cell_type": "markdown",
   "metadata": {},
   "source": [
    "Some other basics of how python works that you should know.\n",
    "\n",
    "Python really cares about the spaces in the lines that you write. It uses blank spaces as a way of indicating that code is in a block (again we will talk about this in future in lots of depth), but you should know that spaces at the beginning of lines you write are important. Here is an example - try running it, you should get an error. \n",
    "Then try removing the spaces from the start of the second line and then try again."
   ]
  },
  {
   "cell_type": "code",
   "execution_count": null,
   "metadata": {
    "collapsed": true
   },
   "outputs": [],
   "source": [
    "a='hello'   \n",
    "    print(a)"
   ]
  },
  {
   "cell_type": "markdown",
   "metadata": {},
   "source": [
    "You can make your own functions in python. It is useful to see how these work because the coderunner web pages we are using for you to self-test in each workshop work by sking you to write a function as an answer. \n",
    "\n",
    "Here is where python's use of blank spaces becomes important. You can define a function by \n",
    ">def function_name():\n",
    "\n",
    "Any arguments to the function go in the brackets.\n",
    "Then use spaces to denote what goes in the function, and return a value if you want to. Here's an example of a function called *add_numbers* that takes two numbers *a* and *b* and returns the result of them added together the key new command is *def* to define a function."
   ]
  },
  {
   "cell_type": "code",
   "execution_count": null,
   "metadata": {
    "collapsed": true
   },
   "outputs": [],
   "source": [
    "def add_numbers(a,b):\n",
    "    c=a+b\n",
    "    return c\n",
    "print(add_numbers(3,4))"
   ]
  },
  {
   "cell_type": "markdown",
   "metadata": {},
   "source": [
    "Now, obviously, that function is completely pointless as it just does exactly the same as the symbol +, but it gives you a sense of how functions are written in python. Note the next line after the function - that you don't want to be included in the function (here a call to the function to add 3 and 4) needs to go back to having no spaces in front. \n",
    "\n",
    "The take-away message is that indents with blank spaces (hit the spacebar to get them) denote the 'block' that a line belongs to.\n",
    "\n",
    "Here is one more example of a function that prints out the string 'hello', it just does something - it doesn't return a value. "
   ]
  },
  {
   "cell_type": "code",
   "execution_count": null,
   "metadata": {
    "collapsed": true
   },
   "outputs": [],
   "source": [
    "def print_hello():\n",
    "    print('hello')\n",
    "    \n",
    "print_hello()"
   ]
  },
  {
   "cell_type": "markdown",
   "metadata": {},
   "source": [
    "### Comment lines"
   ]
  },
  {
   "cell_type": "markdown",
   "metadata": {},
   "source": [
    "It is a good idea to make comments in your code to explain what it is doing. The way to do this is to use a # character. If you include a # on a line then the rest of the line is ignored by the python interpreter. We'll talk a lot more later about comments, and the best way to use them."
   ]
  },
  {
   "cell_type": "code",
   "execution_count": null,
   "metadata": {},
   "outputs": [],
   "source": [
    "def two_to_the_n(n):\n",
    "    #Function to calculate the value 2**n for a given n\n",
    "    return 2**n\n",
    "\n",
    "two_to_the_n(3)"
   ]
  },
  {
   "cell_type": "markdown",
   "metadata": {},
   "source": [
    "Now try the exercises in CodeRunner - access the link to it from the Learn page for the course."
   ]
  },
  {
   "cell_type": "markdown",
   "metadata": {},
   "source": [
    "There are lots of exercises to try using the CodeRunner system, but if you finish them all, try using the application Spyder (the integrated development environment for python). It is available on the Windows machines in the lab - go to the Start menu - find Anaconda - then choose Spyder to launch it.\n",
    "Ask your tutor about how to work with Spyder.\n",
    "\n",
    "Use it to try and do the following task:\n",
    "\n",
    "Make a function *coord_convertor(x,y)* that receives arguments that are Cartesian coordinates, and returns $r, \\theta$ the polar coordinate equivalents."
   ]
  },
  {
   "cell_type": "code",
   "execution_count": null,
   "metadata": {
    "collapsed": true
   },
   "outputs": [],
   "source": []
  },
  {
   "cell_type": "markdown",
   "metadata": {},
   "source": [
    "<hr>"
   ]
  },
  {
   "cell_type": "markdown",
   "metadata": {},
   "source": [
    "** answer ** The lines print out the answer to the following operations in order $2+3$,  $2\\times3$,  $2\\div 3$,  $2^3$."
   ]
  }
 ],
 "metadata": {
  "kernelspec": {
   "display_name": "Python 3",
   "language": "python",
   "name": "python3"
  },
  "language_info": {
   "codemirror_mode": {
    "name": "ipython",
    "version": 3
   },
   "file_extension": ".py",
   "mimetype": "text/x-python",
   "name": "python",
   "nbconvert_exporter": "python",
   "pygments_lexer": "ipython3",
   "version": "3.6.2"
  }
 },
 "nbformat": 4,
 "nbformat_minor": 2
}
